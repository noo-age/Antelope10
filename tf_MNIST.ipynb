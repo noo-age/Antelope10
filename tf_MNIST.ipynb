{
  "nbformat": 4,
  "nbformat_minor": 0,
  "metadata": {
    "colab": {
      "provenance": [],
      "authorship_tag": "ABX9TyPUbsaoimwZ4lW5dQGRFYVC",
      "include_colab_link": true
    },
    "kernelspec": {
      "name": "python3",
      "display_name": "Python 3"
    },
    "language_info": {
      "name": "python"
    }
  },
  "cells": [
    {
      "cell_type": "markdown",
      "metadata": {
        "id": "view-in-github",
        "colab_type": "text"
      },
      "source": [
        "<a href=\"https://colab.research.google.com/github/Antelope10/Antelope10/blob/main/tf_MNIST.ipynb\" target=\"_parent\"><img src=\"https://colab.research.google.com/assets/colab-badge.svg\" alt=\"Open In Colab\"/></a>"
      ]
    },
    {
      "cell_type": "code",
      "execution_count": 42,
      "metadata": {
        "colab": {
          "base_uri": "https://localhost:8080/"
        },
        "id": "DxMZ8JnQ9JKg",
        "outputId": "31aa895c-e6d5-44dd-a7db-7de121d83681"
      },
      "outputs": [
        {
          "output_type": "execute_result",
          "data": {
            "text/plain": [
              "array([[0., 0., 0., ..., 0., 0., 0.],\n",
              "       [0., 0., 0., ..., 1., 0., 0.],\n",
              "       [0., 0., 0., ..., 0., 0., 1.],\n",
              "       ...,\n",
              "       [0., 0., 1., ..., 0., 0., 0.],\n",
              "       [0., 0., 0., ..., 0., 0., 1.],\n",
              "       [0., 0., 0., ..., 0., 0., 0.]])"
            ]
          },
          "metadata": {},
          "execution_count": 42
        }
      ],
      "source": [
        "import pandas as pd\n",
        "import tensorflow as tf\n",
        "from tensorflow import keras\n",
        "from tensorflow.keras import layers\n",
        "import numpy as np\n",
        "\n",
        "data = pd.read_csv('sample_data/mnist_train_small.csv')\n",
        "data.head()\n",
        "data = np.array(data)\n",
        "m,n = data.shape\n",
        "\n",
        "Y_train = np.zeros((m,10))\n",
        "X_train = data[:,1:n]\n",
        "\n",
        "for i in range(m):\n",
        "  Y_train[i,data[i,0]] = 1\n",
        "\n"
      ]
    },
    {
      "cell_type": "code",
      "source": [
        "model = keras.Sequential(\n",
        "    [\n",
        "        layers.Dense(784,activation=\"relu\", name=\"layer1\"),\n",
        "        layers.Dense(3,activation=\"relu\", name=\"layer2\"),\n",
        "        layers.Dense(10,name=\"layer3\"),\n",
        "    ]\n",
        ")\n",
        "\n",
        "model.compile(loss='categorical_crossentropy',optimizer='sgd',metrics='accuracy')\n",
        "model.fit(X_train,Y_train,batch_size=32,epochs=5)"
      ],
      "metadata": {
        "colab": {
          "base_uri": "https://localhost:8080/"
        },
        "id": "dDF0RCRJ9enh",
        "outputId": "de9d1129-62c9-4f2f-b13d-9cc65acb664b"
      },
      "execution_count": 68,
      "outputs": [
        {
          "output_type": "stream",
          "name": "stdout",
          "text": [
            "Epoch 1/5\n",
            "625/625 [==============================] - 4s 5ms/step - loss: 9.9138 - accuracy: 0.1124\n",
            "Epoch 2/5\n",
            "625/625 [==============================] - 3s 5ms/step - loss: 9.9542 - accuracy: 0.1122\n",
            "Epoch 3/5\n",
            "625/625 [==============================] - 3s 5ms/step - loss: 9.9542 - accuracy: 0.1122\n",
            "Epoch 4/5\n",
            "625/625 [==============================] - 3s 5ms/step - loss: 9.9542 - accuracy: 0.1122\n",
            "Epoch 5/5\n",
            "625/625 [==============================] - 3s 5ms/step - loss: 9.9542 - accuracy: 0.1122\n"
          ]
        },
        {
          "output_type": "execute_result",
          "data": {
            "text/plain": [
              "<keras.callbacks.History at 0x7fb1512de0d0>"
            ]
          },
          "metadata": {},
          "execution_count": 68
        }
      ]
    },
    {
      "cell_type": "code",
      "source": [
        "model(X_train)"
      ],
      "metadata": {
        "colab": {
          "base_uri": "https://localhost:8080/"
        },
        "id": "R8c_phXRH9JC",
        "outputId": "b8a1d187-ef1a-4080-9af6-edb1c75a4001"
      },
      "execution_count": 63,
      "outputs": [
        {
          "output_type": "execute_result",
          "data": {
            "text/plain": [
              "<tf.Tensor: shape=(19999, 10), dtype=float32, numpy=\n",
              "array([[-197.85081 , -125.26632 , -309.67996 , ..., -264.74408 ,\n",
              "         195.30087 ,  171.93585 ],\n",
              "       [-204.00876 ,  -60.015316, -240.05255 , ..., -374.04037 ,\n",
              "         251.70522 ,  228.04407 ],\n",
              "       [-280.58395 , -110.50394 , -373.81573 , ..., -363.49948 ,\n",
              "         302.15186 ,  329.42938 ],\n",
              "       ...,\n",
              "       [-260.24878 , -147.81277 , -413.05508 , ..., -511.1638  ,\n",
              "         259.89194 ,  309.14642 ],\n",
              "       [-191.82123 , -210.08476 , -319.98047 , ..., -441.24872 ,\n",
              "         208.1753  ,  239.66689 ],\n",
              "       [-331.5595  , -212.70709 , -419.13174 , ..., -258.59222 ,\n",
              "         280.1582  ,  154.69363 ]], dtype=float32)>"
            ]
          },
          "metadata": {},
          "execution_count": 63
        }
      ]
    }
  ]
}